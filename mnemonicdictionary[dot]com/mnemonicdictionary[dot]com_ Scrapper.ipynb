{
 "cells": [
  {
   "cell_type": "code",
   "execution_count": 21,
   "metadata": {},
   "outputs": [],
   "source": [
    "import urllib\n",
    "import re\n",
    "import csv\n",
    "import requests             \n",
    "from bs4 import BeautifulSoup \n",
    "import csv                  \n",
    "import webbrowser\n",
    "import io\n",
    "import pandas as pd"
   ]
  },
  {
   "cell_type": "code",
   "execution_count": 56,
   "metadata": {},
   "outputs": [],
   "source": [
    "def get_soup(url, show=False):\n",
    "    session = requests.Session()\n",
    "    session.headers.update({\n",
    "        'User-Agent': 'Mozilla/5.0 (X11; Ubuntu; Linux x86_64; rv:57.0) Gecko/20100101 Firefox/57.0',\n",
    "    })    \n",
    "    r = session.get(url)\n",
    "    if show:\n",
    "        display(r.content, 'temp.html')\n",
    "\n",
    "    if r.status_code != 200: # not OK\n",
    "        print('[get_soup] status code:', r.status_code)\n",
    "    else:\n",
    "        return BeautifulSoup(r.text, 'html.parser')"
   ]
  },
  {
   "cell_type": "markdown",
   "metadata": {},
   "source": [
    "## Inputs \n",
    "-> wordlist : A txt file with word that you want to scrape"
   ]
  },
  {
   "cell_type": "code",
   "execution_count": 1,
   "metadata": {},
   "outputs": [],
   "source": [
    "wordlist = 'name_of_wordlist.txt'\n",
    "output_file = \"name_of_textfileWithMnemonics.txt\""
   ]
  },
  {
   "cell_type": "code",
   "execution_count": 68,
   "metadata": {
    "scrolled": true
   },
   "outputs": [
    {
     "name": "stdout",
     "output_type": "stream",
     "text": [
      "nonplussed\n",
      "\n",
      "obsequious\n",
      "\n",
      "opaque\n",
      "\n",
      "opulence\n",
      "\n",
      "ostentatious\n",
      "\n",
      "ostracize\n",
      "\n",
      "panache\n",
      "\n",
      "pedantic\n",
      "\n",
      "pedestrian\n",
      "\n",
      "pejorative\n",
      "\n",
      "perfidy\n",
      "\n",
      "pernicious\n",
      "\n",
      "petulant\n",
      "\n",
      "platitude\n",
      "\n",
      "poignant\n",
      "\n",
      "polemic\n",
      "\n",
      "posit\n",
      "\n",
      "precipitous\n",
      "\n",
      "preclude\n",
      "\n",
      "precocious\n",
      "\n",
      "predilection\n",
      "\n",
      "prescience\n",
      "\n",
      "prevaricate\n",
      "\n",
      "prodigal\n",
      "\n",
      "prodigious\n",
      "\n",
      "profligate\n",
      "\n",
      "prolific\n",
      "\n",
      "propitious\n",
      "\n",
      "provincial\n",
      "\n",
      "qualify\n",
      "\n",
      "quotidian\n",
      "\n",
      "ravenous\n",
      "\n",
      "rebuke\n",
      "\n",
      "reconcile\n",
      "\n",
      "recondite\n",
      "\n",
      "refractory\n",
      "\n",
      "refute\n",
      "\n",
      "reproach\n",
      "\n",
      "repudiate\n",
      "\n",
      "rescind\n",
      "\n",
      "rustic\n"
     ]
    }
   ],
   "source": [
    "string = \"\"\n",
    "with open(output_file, \"w+\") as f:\n",
    "    with open(wordlist, 'r') as wordlist:\n",
    "        for word in wordlist.readlines():\n",
    "            print(word)\n",
    "            string += \"\\n******************** \" + word.replace(\"\\n\",\"\").upper() + \" *******************\\n\"\n",
    "            soup = get_soup(\"http://www.mnemonicdictionary.com/?word=\" + word)\n",
    "            cards_soup = soup.findAll(\"div\", {\"class\": \"card mnemonic-card\"})\n",
    "            for cs in cards_soup:\n",
    "                cards_text = cs.findAll(\"div\", {\"class\": \"card-text\"})\n",
    "                for ct in cards_text:\n",
    "                    raw = ct.text.replace(\"\\n\",\"\")\n",
    "                    raw = raw.replace(\"  \", \"\")\n",
    "                    raw = raw.replace(\"Powered by Mnemonic Dictionary\", \"\")\n",
    "                    string += \"->> \"+ raw + \"\\n\"\n",
    "#                     print(raw)\n",
    "    f.write(string)"
   ]
  },
  {
   "cell_type": "code",
   "execution_count": null,
   "metadata": {},
   "outputs": [],
   "source": []
  }
 ],
 "metadata": {
  "kernelspec": {
   "display_name": "random_env",
   "language": "python",
   "name": "random_env"
  },
  "language_info": {
   "codemirror_mode": {
    "name": "ipython",
    "version": 3
   },
   "file_extension": ".py",
   "mimetype": "text/x-python",
   "name": "python",
   "nbconvert_exporter": "python",
   "pygments_lexer": "ipython3",
   "version": "3.6.7"
  }
 },
 "nbformat": 4,
 "nbformat_minor": 2
}
